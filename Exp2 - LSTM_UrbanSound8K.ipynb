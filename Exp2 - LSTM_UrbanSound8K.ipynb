{
 "cells": [
  {
   "cell_type": "code",
   "execution_count": 1,
   "metadata": {},
   "outputs": [],
   "source": [
    "from torch.utils.data import Dataset, DataLoader, random_split # Dataset: Base class\n",
    "import torch\n",
    "import torchaudio\n",
    "import torch.nn as nn\n",
    "import numpy as np\n",
    "\n",
    "import os\n",
    "import pandas as pd\n",
    "import matplotlib.pyplot as plt\n",
    "import librosa.display\n",
    "import copy"
   ]
  },
  {
   "cell_type": "markdown",
   "metadata": {},
   "source": [
    "## Setting GPU"
   ]
  },
  {
   "cell_type": "code",
   "execution_count": 2,
   "metadata": {},
   "outputs": [],
   "source": [
    "if torch.cuda.is_available():\n",
    "    device = torch.device('cuda')\n",
    "# elif torch.backends.mps.is_available():\n",
    "#     device = torch.device('mps')\n",
    "else:\n",
    "    device = torch.device('cpu')"
   ]
  },
  {
   "cell_type": "code",
   "execution_count": 3,
   "metadata": {},
   "outputs": [
    {
     "name": "stdout",
     "output_type": "stream",
     "text": [
      "Device: cpu\n"
     ]
    }
   ],
   "source": [
    "print('Device:',device)"
   ]
  },
  {
   "cell_type": "markdown",
   "metadata": {},
   "source": [
    "Now we need to register this GPU (if available) to -\n",
    "- `transform` attribute in the Custom Dataset class below (which uses `torchaudio.transforms`)\n",
    "- Tensor `waveform` in `__getitem__()` function"
   ]
  },
  {
   "cell_type": "markdown",
   "metadata": {},
   "source": [
    "## Urban Sound 8K Custom Dataset"
   ]
  },
  {
   "cell_type": "code",
   "execution_count": 4,
   "metadata": {},
   "outputs": [],
   "source": [
    "class UrbanSound8KDataset(Dataset):\n",
    "    def __init__(self, annotations_file, audio_dir, num_samples = None, transformation = None, target_sample_rate = 22050, device = 'cpu') -> None:\n",
    "        super(UrbanSound8KDataset, self).__init__()\n",
    "        self.annotations = pd.read_csv(annotations_file)\n",
    "        self.audio_dir = audio_dir # Audio Directory\n",
    "        self.target_sample_rate = target_sample_rate\n",
    "        self.device = device\n",
    "        self.transform = transformation.to(self.device)\n",
    "        self.num_samples = num_samples\n",
    "\n",
    "    def __len__(self): # len(usd) can be used - number of samples in the dataset\n",
    "        return len(self.annotations) # Number of samples in the Dataset\n",
    "\n",
    "    def __getitem__(self, index): # Subscriptable: o_list[1] --> o_list.__getitem__(1)\n",
    "        # Loading the waveform of the audio associated to the index and also return the label with it\n",
    "        audio_sample_path = self._get_audio_sample_path(index) # Starting with underscore function: Placeholder method\n",
    "        label = self._get_audio_sample_label(index)\n",
    "        waveform, sr = torchaudio.load(audio_sample_path)\n",
    "\n",
    "        # Move the waveform to GPU if available\n",
    "        waveform = waveform.to(self.device)\n",
    "\n",
    "        # Make it mono (Since a signal can have multiple channels)\n",
    "        waveform = self._mix_down_if_necessary(waveform)\n",
    "\n",
    "        # Make all of the same sample rate (Since some audio data have different sample rate)\n",
    "        waveform = self._resample_if_necessary(waveform, sr)\n",
    "\n",
    "        # CUT or PAD the signal to the same number of samples = num_samples (Parameter passed when creating the object)\n",
    "        if self.num_samples is not None:\n",
    "            waveform = self._right_pad_if_necessary(waveform)\n",
    "            waveform = self._cut_if_necessary(waveform)\n",
    "\n",
    "        # Applying mel spectrogram transformation to waveform\n",
    "        if self.transform is not None:\n",
    "            waveform = self.transform(waveform) # All transforms are callable (Has a __call__() function)\n",
    "        \n",
    "        return waveform, label\n",
    "\n",
    "    def _right_pad_if_necessary(self, waveform):\n",
    "        # waveform.shape --> Tensor --> (no. of channels = 1, no. of samples)\n",
    "        # [1, 1, 1] --> [1, 1, 1, 0, 0] : Right padding by two\n",
    "        length_signal = waveform.shape[1]\n",
    "        if(length_signal < self.num_samples):\n",
    "            num_missing_samples = self.num_samples - length_signal\n",
    "\n",
    "            last_dimension_padding = (0, num_missing_samples) # (Left pad, Right pad) on LAST axis\n",
    "            # E.g. 1) If last_dimension_padding = (0, 2)\n",
    "            # [1, 1, 1] --> [1, 1, 1, 0, 0]\n",
    "            # E.g. 2) If last_dimension_padding = (1, 2)\n",
    "            # [1, 1, 1] --> [0, 1, 1, 1, 0, 0]\n",
    "            \n",
    "            # IMPORTANT -\n",
    "            # If we need to pad the second last axis as well (In our case that would be no. of channels)\n",
    "            # Then last_dimension_padding would be a tuple of FOUR elements (a,b,c,d)\n",
    "            # Where -\n",
    "            # a,b: Left and Right Padding for the last axis\n",
    "            # c,d: Left and Right Padding for the second last axis\n",
    "            # And this can be extended for higher dimensions as well\n",
    "\n",
    "            waveform = torch.nn.functional.pad(waveform, last_dimension_padding)\n",
    "        return waveform\n",
    "\n",
    "    def _cut_if_necessary(self, waveform):\n",
    "        # waveform.shape --> Tensor --> (no. of channels = 1, no. of samples)\n",
    "        if(waveform.shape[1] > self.num_samples):\n",
    "            # E.g. is [1, 50000] --> [1, 22050]\n",
    "            waveform = waveform[:, :self.num_samples] # All channels, but first num_samples samples will be used\n",
    "        return waveform\n",
    "\n",
    "    def _resample_if_necessary(self, waveform, sr):\n",
    "        if sr != self.target_sample_rate:\n",
    "            resampler = torchaudio.transforms.Resample(sr, self.target_sample_rate)\n",
    "            waveform = resampler(waveform) # Callable object\n",
    "        return waveform\n",
    "\n",
    "    def _mix_down_if_necessary(self, waveform):\n",
    "        \"\"\"\n",
    "            Here we take the mean of each channel IF it has more than 1 channel\n",
    "            - This is the general way of converting a multi-channel signal to a mono signal\n",
    "        \"\"\"\n",
    "        # waveform.shape --> (no. of channels, no. of samples)\n",
    "        # First dimension determines the number of channels, as seen in the previous notebook as well, hence we set dim = 0\n",
    "        # keepdims is for ensuring the waveform is still a RANK 2 tensor, and does not become RANK 1, when taking mean of all rows\n",
    "        # If already mono, don't perform any operation\n",
    "\n",
    "        if waveform.shape[0] > 1:\n",
    "            waveform = torch.mean(waveform, dim=0, keepdim=True)\n",
    "        return waveform\n",
    "\n",
    "    def _get_audio_sample_path(self, index):\n",
    "        folder = f\"fold{self.annotations['fold'][index]}\" # Folder number\n",
    "        path = os.path.join(self.audio_dir, folder, self.annotations['slice_file_name'][index])\n",
    "        return path\n",
    "    \n",
    "    def _get_audio_sample_label(self, index):\n",
    "        return self.annotations['classID'][index]"
   ]
  },
  {
   "cell_type": "code",
   "execution_count": 5,
   "metadata": {},
   "outputs": [],
   "source": [
    "annotations_file = '../../../Datasets/UrbanSound8K/metadata/UrbanSound8K.csv'\n",
    "audio_dir = '../../../Datasets/UrbanSound8K/audio/'"
   ]
  },
  {
   "cell_type": "markdown",
   "metadata": {},
   "source": [
    "## Fixing the **duration** of each example"
   ]
  },
  {
   "cell_type": "code",
   "execution_count": 6,
   "metadata": {},
   "outputs": [],
   "source": [
    "sample_rate = 22050\n",
    "num_samples = 22050*1 # Taking 1 second of each sample\n",
    "hop_length = 256"
   ]
  },
  {
   "cell_type": "markdown",
   "metadata": {},
   "source": [
    "## Mel-Spectrogram"
   ]
  },
  {
   "cell_type": "code",
   "execution_count": 7,
   "metadata": {},
   "outputs": [],
   "source": [
    "mel_spectrogram = torchaudio.transforms.MelSpectrogram(\n",
    "    sample_rate,\n",
    "    n_fft = 2048,\n",
    "    hop_length = hop_length,\n",
    "    n_mels = 64 # Number of mel filter banks\n",
    ")"
   ]
  },
  {
   "cell_type": "code",
   "execution_count": 8,
   "metadata": {},
   "outputs": [],
   "source": [
    "usd = UrbanSound8KDataset(annotations_file, audio_dir, num_samples = num_samples, target_sample_rate = sample_rate, transformation = mel_spectrogram)"
   ]
  },
  {
   "cell_type": "code",
   "execution_count": 9,
   "metadata": {},
   "outputs": [
    {
     "data": {
      "text/plain": [
       "torch.Size([1, 64, 87])"
      ]
     },
     "execution_count": 9,
     "metadata": {},
     "output_type": "execute_result"
    }
   ],
   "source": [
    "shape = usd[0][0].shape\n",
    "shape"
   ]
  },
  {
   "cell_type": "code",
   "execution_count": 10,
   "metadata": {},
   "outputs": [
    {
     "data": {
      "text/plain": [
       "torch.Size([1, 64, 87])"
      ]
     },
     "execution_count": 10,
     "metadata": {},
     "output_type": "execute_result"
    }
   ],
   "source": [
    "shape = usd[1][0].shape\n",
    "shape"
   ]
  },
  {
   "cell_type": "markdown",
   "metadata": {},
   "source": [
    "## Dataloader"
   ]
  },
  {
   "cell_type": "code",
   "execution_count": 11,
   "metadata": {},
   "outputs": [
    {
     "data": {
      "text/plain": [
       "<torch._C.Generator at 0x1086c0d10>"
      ]
     },
     "execution_count": 11,
     "metadata": {},
     "output_type": "execute_result"
    }
   ],
   "source": [
    "torch.manual_seed(10)"
   ]
  },
  {
   "cell_type": "code",
   "execution_count": 12,
   "metadata": {},
   "outputs": [],
   "source": [
    "train_data, test_data = random_split(usd, [0.9, 0.1])"
   ]
  },
  {
   "cell_type": "code",
   "execution_count": 13,
   "metadata": {},
   "outputs": [],
   "source": [
    "batch_size = 256"
   ]
  },
  {
   "cell_type": "code",
   "execution_count": 14,
   "metadata": {},
   "outputs": [],
   "source": [
    "train_loader = DataLoader(\n",
    "    train_data, \n",
    "    batch_size = batch_size, \n",
    "    shuffle=True\n",
    ")\n",
    "test_loader = DataLoader(\n",
    "    test_data, \n",
    "    batch_size = batch_size, \n",
    "    shuffle=True\n",
    ")"
   ]
  },
  {
   "cell_type": "code",
   "execution_count": 15,
   "metadata": {},
   "outputs": [
    {
     "name": "stdout",
     "output_type": "stream",
     "text": [
      "torch.Size([256, 1, 64, 87])\n"
     ]
    },
    {
     "data": {
      "text/plain": [
       "<matplotlib.colorbar.Colorbar at 0x28e7cd690>"
      ]
     },
     "execution_count": 15,
     "metadata": {},
     "output_type": "execute_result"
    },
    {
     "data": {
      "image/png": "[encoded data removed]",
      "text/plain": [
       "<Figure size 640x480 with 2 Axes>"
      ]
     },
     "metadata": {},
     "output_type": "display_data"
    }
   ],
   "source": [
    "spectrogram, label = next(iter(train_loader))\n",
    "print(spectrogram.shape)\n",
    "librosa.display.specshow(spectrogram[0][0].numpy(), x_axis='time', y_axis='linear')\n",
    "plt.title('Mel Spectrogram')\n",
    "plt.colorbar()"
   ]
  },
  {
   "cell_type": "markdown",
   "metadata": {},
   "source": [
    "# LSTM"
   ]
  },
  {
   "cell_type": "code",
   "execution_count": 16,
   "metadata": {},
   "outputs": [],
   "source": [
    "class LSTM(nn.Module):\n",
    "    def __init__(self, input_size, hidden_size1, hidden_size2, hidden_size3, device) -> None:\n",
    "        super(LSTM, self).__init__()\n",
    "        self.device = device\n",
    "        self.input_size = input_size\n",
    "        self.hidden_size1 = hidden_size1\n",
    "        self.hidden_size2 = hidden_size2\n",
    "        self.hidden_size3 = hidden_size3\n",
    "\n",
    "        self.lstm1 = nn.LSTMCell(input_size, hidden_size=hidden_size1)\n",
    "        self.lstm2 = nn.LSTMCell(hidden_size1, hidden_size=hidden_size2)\n",
    "        self.lstm3 = nn.LSTMCell(hidden_size2, hidden_size=hidden_size3)\n",
    "\n",
    "        self.linear = nn.Linear(hidden_size3, 10)\n",
    "    \n",
    "    def forward(self, x):\n",
    "        batch_size = x.shape[0]\n",
    "\n",
    "        ht1 = torch.zeros(batch_size, self.hidden_size1).to(self.device) # (16, 256)\n",
    "        ct1 = torch.zeros(batch_size, self.hidden_size1).to(self.device) # (16, 256)\n",
    "        ht2 = torch.zeros(batch_size, self.hidden_size2).to(self.device) # (16, 256)\n",
    "        ct2 = torch.zeros(batch_size, self.hidden_size2).to(self.device) # (16, 256)\n",
    "        ht3 = torch.zeros(batch_size, self.hidden_size3).to(self.device) # (16, 256)\n",
    "        ct3 = torch.zeros(batch_size, self.hidden_size3).to(self.device) # (16, 256)\n",
    "\n",
    "        for input1 in x.split(1, dim = 3):\n",
    "            input1 = input1.view(batch_size, -1)\n",
    "            # print(input1.shape) # (16, 64) - where 64 is the number of samples in one mel spectrum (one column)\n",
    "            (ht1, ct1) = self.lstm1(input1, (ht1, ct1))\n",
    "            (ht2, ct2) = self.lstm2(ht1, (ht2, ct2))\n",
    "            (ht3, ct3) = self.lstm3(ht2, (ht3, ct3))\n",
    "        \n",
    "        output = self.linear(ht3)\n",
    "        return output"
   ]
  },
  {
   "cell_type": "code",
   "execution_count": 17,
   "metadata": {},
   "outputs": [],
   "source": [
    "lstm = LSTM(input_size = usd[0][0].shape[1], hidden_size1=256, hidden_size2=512, hidden_size3=512, device = device).to(device)"
   ]
  },
  {
   "cell_type": "code",
   "execution_count": 18,
   "metadata": {},
   "outputs": [],
   "source": [
    "criterion = nn.CrossEntropyLoss().to(device)\n",
    "optimizer = torch.optim.Adam(lstm.parameters(), lr=2e-3)\n",
    "scheduler = torch.optim.lr_scheduler.StepLR(optimizer, step_size = 5, gamma = 0.7)\n",
    "losses = []"
   ]
  },
  {
   "cell_type": "code",
   "execution_count": 19,
   "metadata": {},
   "outputs": [],
   "source": [
    "num_epochs = 50"
   ]
  },
  {
   "cell_type": "code",
   "execution_count": 20,
   "metadata": {},
   "outputs": [
    {
     "name": "stdout",
     "output_type": "stream",
     "text": [
      "Epoch 1/50; Loss = 1.419105; LR = [0.002]\n",
      "SAVED MODEL WEIGHTS\n",
      "Dev Accuracy: 53.49%\n",
      "--------------------\n",
      "Epoch 2/50; Loss = 1.166306; LR = [0.002]\n",
      "SAVED MODEL WEIGHTS\n",
      "Dev Accuracy: 56.59%\n",
      "--------------------\n",
      "Epoch 3/50; Loss = 0.977733; LR = [0.002]\n",
      "SAVED MODEL WEIGHTS\n",
      "Dev Accuracy: 63.80%\n",
      "--------------------\n",
      "Epoch 4/50; Loss = 0.902722; LR = [0.002]\n",
      "SAVED MODEL WEIGHTS\n",
      "Dev Accuracy: 66.44%\n",
      "--------------------\n",
      "Epoch 5/50; Loss = 0.986584; LR = [0.002]\n",
      "SAVED MODEL WEIGHTS\n",
      "Train Accuracy: 73.92%\n",
      "Dev Accuracy: 68.27%\n",
      "--------------------\n",
      "Epoch 6/50; Loss = 0.840719; LR = [0.0014]\n",
      "SAVED MODEL WEIGHTS\n",
      "Dev Accuracy: 68.38%\n",
      "--------------------\n",
      "Epoch 7/50; Loss = 0.719936; LR = [0.0014]\n",
      "Dev Accuracy: 66.90%\n",
      "--------------------\n",
      "Epoch 8/50; Loss = 0.677184; LR = [0.0014]\n",
      "SAVED MODEL WEIGHTS\n",
      "Dev Accuracy: 70.33%\n",
      "--------------------\n",
      "Epoch 9/50; Loss = 0.690595; LR = [0.0014]\n",
      "SAVED MODEL WEIGHTS\n",
      "Dev Accuracy: 74.34%\n",
      "--------------------\n",
      "Epoch 10/50; Loss = 0.553044; LR = [0.0014]\n",
      "Train Accuracy: 84.18%\n",
      "Dev Accuracy: 72.39%\n",
      "--------------------\n",
      "Epoch 11/50; Loss = 0.415580; LR = [0.00098]\n",
      "SAVED MODEL WEIGHTS\n",
      "Dev Accuracy: 77.21%\n",
      "--------------------\n",
      "Epoch 12/50; Loss = 0.388712; LR = [0.00098]\n",
      "Dev Accuracy: 75.03%\n",
      "--------------------\n",
      "Epoch 13/50; Loss = 0.403896; LR = [0.00098]\n",
      "Dev Accuracy: 76.17%\n",
      "--------------------\n",
      "Epoch 14/50; Loss = 0.394589; LR = [0.00098]\n",
      "Dev Accuracy: 76.63%\n",
      "--------------------\n",
      "Epoch 15/50; Loss = 0.372538; LR = [0.00098]\n",
      "Train Accuracy: 90.46%\n",
      "Dev Accuracy: 76.40%\n",
      "--------------------\n",
      "Epoch 16/50; Loss = 0.315298; LR = [0.000686]\n",
      "SAVED MODEL WEIGHTS\n",
      "Dev Accuracy: 78.12%\n",
      "--------------------\n",
      "Epoch 17/50; Loss = 0.284414; LR = [0.000686]\n",
      "Dev Accuracy: 77.78%\n",
      "--------------------\n",
      "Epoch 18/50; Loss = 0.265529; LR = [0.000686]\n",
      "SAVED MODEL WEIGHTS\n",
      "Dev Accuracy: 78.35%\n",
      "--------------------\n",
      "Epoch 19/50; Loss = 0.223389; LR = [0.000686]\n",
      "Dev Accuracy: 77.09%\n",
      "--------------------\n",
      "Epoch 20/50; Loss = 0.115527; LR = [0.000686]\n",
      "Train Accuracy: 95.58%\n",
      "Dev Accuracy: 78.24%\n",
      "--------------------\n",
      "Epoch 21/50; Loss = 0.194739; LR = [0.00048019999999999996]\n",
      "SAVED MODEL WEIGHTS\n",
      "Dev Accuracy: 79.15%\n",
      "--------------------\n",
      "Epoch 22/50; Loss = 0.115119; LR = [0.00048019999999999996]\n",
      "SAVED MODEL WEIGHTS\n",
      "Dev Accuracy: 79.50%\n",
      "--------------------\n",
      "Epoch 23/50; Loss = 0.092717; LR = [0.00048019999999999996]\n",
      "Dev Accuracy: 79.27%\n",
      "--------------------\n",
      "Epoch 24/50; Loss = 0.067301; LR = [0.00048019999999999996]\n",
      "Dev Accuracy: 79.27%\n",
      "--------------------\n",
      "Epoch 25/50; Loss = 0.094651; LR = [0.00048019999999999996]\n",
      "Train Accuracy: 98.26%\n",
      "Dev Accuracy: 78.92%\n",
      "--------------------\n",
      "Epoch 26/50; Loss = 0.024823; LR = [0.00033613999999999996]\n",
      "SAVED MODEL WEIGHTS\n",
      "Dev Accuracy: 79.61%\n",
      "--------------------\n",
      "Epoch 27/50; Loss = 0.027308; LR = [0.00033613999999999996]\n",
      "SAVED MODEL WEIGHTS\n",
      "Dev Accuracy: 80.99%\n",
      "--------------------\n",
      "Epoch 28/50; Loss = 0.032136; LR = [0.00033613999999999996]\n",
      "Dev Accuracy: 80.53%\n",
      "--------------------\n",
      "Epoch 29/50; Loss = 0.060321; LR = [0.00033613999999999996]\n",
      "Dev Accuracy: 80.30%\n",
      "--------------------\n",
      "Epoch 30/50; Loss = 0.079250; LR = [0.00033613999999999996]\n",
      "Train Accuracy: 99.13%\n",
      "Dev Accuracy: 79.95%\n",
      "--------------------\n",
      "Epoch 31/50; Loss = 0.044339; LR = [0.00023529799999999997]\n",
      "Dev Accuracy: 80.53%\n",
      "--------------------\n",
      "Epoch 32/50; Loss = 0.064912; LR = [0.00023529799999999997]\n",
      "Dev Accuracy: 80.41%\n",
      "--------------------\n",
      "Epoch 33/50; Loss = 0.019049; LR = [0.00023529799999999997]\n",
      "SAVED MODEL WEIGHTS\n",
      "Dev Accuracy: 81.21%\n",
      "--------------------\n",
      "Epoch 34/50; Loss = 0.004433; LR = [0.00023529799999999997]\n",
      "Dev Accuracy: 80.64%\n",
      "--------------------\n",
      "Epoch 35/50; Loss = 0.024690; LR = [0.00023529799999999997]\n",
      "Train Accuracy: 99.54%\n",
      "Dev Accuracy: 81.10%\n",
      "--------------------\n",
      "Epoch 36/50; Loss = 0.013976; LR = [0.00016470859999999997]\n",
      "Dev Accuracy: 80.87%\n",
      "--------------------\n",
      "Epoch 37/50; Loss = 0.022087; LR = [0.00016470859999999997]\n",
      "Dev Accuracy: 80.41%\n",
      "--------------------\n",
      "Epoch 38/50; Loss = 0.013487; LR = [0.00016470859999999997]\n",
      "Dev Accuracy: 80.53%\n",
      "--------------------\n",
      "Epoch 39/50; Loss = 0.018632; LR = [0.00016470859999999997]\n",
      "Dev Accuracy: 80.64%\n",
      "--------------------\n",
      "Epoch 40/50; Loss = 0.007170; LR = [0.00016470859999999997]\n",
      "Train Accuracy: 99.73%\n",
      "Dev Accuracy: 80.18%\n",
      "--------------------\n",
      "Epoch 41/50; Loss = 0.005224; LR = [0.00011529601999999998]\n",
      "Dev Accuracy: 80.64%\n",
      "--------------------\n",
      "Epoch 42/50; Loss = 0.001503; LR = [0.00011529601999999998]\n",
      "Dev Accuracy: 80.41%\n",
      "--------------------\n",
      "Epoch 43/50; Loss = 0.007967; LR = [0.00011529601999999998]\n",
      "Dev Accuracy: 80.53%\n",
      "--------------------\n",
      "Epoch 44/50; Loss = 0.007527; LR = [0.00011529601999999998]\n",
      "Dev Accuracy: 80.53%\n",
      "--------------------\n",
      "Epoch 45/50; Loss = 0.020875; LR = [0.00011529601999999998]\n",
      "Train Accuracy: 99.75%\n",
      "Dev Accuracy: 80.53%\n",
      "--------------------\n",
      "Epoch 46/50; Loss = 0.006269; LR = [8.070721399999998e-05]\n",
      "Dev Accuracy: 80.64%\n",
      "--------------------\n",
      "Epoch 47/50; Loss = 0.009666; LR = [8.070721399999998e-05]\n",
      "Dev Accuracy: 80.53%\n",
      "--------------------\n",
      "Epoch 48/50; Loss = 0.001117; LR = [8.070721399999998e-05]\n",
      "Dev Accuracy: 80.53%\n",
      "--------------------\n",
      "Epoch 49/50; Loss = 0.001109; LR = [8.070721399999998e-05]\n",
      "Dev Accuracy: 80.53%\n",
      "--------------------\n",
      "Epoch 50/50; Loss = 0.005974; LR = [8.070721399999998e-05]\n",
      "SAVED MODEL WEIGHTS\n",
      "Train Accuracy: 99.72%\n",
      "Dev Accuracy: 81.21%\n",
      "--------------------\n"
     ]
    }
   ],
   "source": [
    "best_weights = copy.deepcopy(lstm.state_dict())\n",
    "max = 0\n",
    "val_acc = 0\n",
    "train_acc = 0\n",
    "for epoch in range(num_epochs):\n",
    "    lstm.train()\n",
    "    for i, (mel_spectrogram,labels) in enumerate(train_loader):\n",
    "        mel_spectrogram = mel_spectrogram.to(device)\n",
    "        labels = labels.to(device)\n",
    "\n",
    "        preds = lstm(mel_spectrogram)\n",
    "        loss = criterion(preds, labels)\n",
    "        losses.append(loss.item())\n",
    "\n",
    "        optimizer.zero_grad()\n",
    "        loss.backward()\n",
    "        optimizer.step()\n",
    "    print(f'Epoch {epoch+1}/{num_epochs}; Loss = {loss.item():.6f}; LR = {scheduler.get_last_lr()}')\n",
    "    scheduler.step() # Decaying learning rate per 25 epochs by 0.2 times\n",
    "    with torch.no_grad():\n",
    "        n_samples = 0\n",
    "        n_correct = 0\n",
    "        lstm.eval()\n",
    "        for mel_spectrogram, labels in test_loader:\n",
    "            mel_spectrogram = mel_spectrogram.to(device) # From 128, 1, 28, 28 ---> 128, 784\n",
    "            labels = labels.to(device)\n",
    "            pred_outputs1 = lstm(mel_spectrogram)\n",
    "            _, actual_preds1 = torch.max(pred_outputs1, 1) # Returns value, index\n",
    "            n_samples += labels.shape[0]\n",
    "            n_correct += (actual_preds1 == labels).sum().item()\n",
    "        val_acc = n_correct/n_samples * 100\n",
    "\n",
    "        if (max <= (n_correct/n_samples * 100)):\n",
    "            print('SAVED MODEL WEIGHTS')\n",
    "            max = val_acc\n",
    "            best_weights = copy.deepcopy(lstm.state_dict())\n",
    "\n",
    "        n_samples = 0\n",
    "        n_correct = 0\n",
    "        \n",
    "        if (epoch+1)%5 == 0:\n",
    "            for mel_spectrogram, labels in train_loader:\n",
    "                mel_spectrogram = mel_spectrogram.to(device) # From 128, 1, 28, 28 ---> 128, 784\n",
    "                labels = labels.to(device)\n",
    "                pred_outputs1 = lstm(mel_spectrogram)\n",
    "                _, actual_preds1 = torch.max(pred_outputs1, 1) # Returns value, index\n",
    "                n_samples += labels.shape[0]\n",
    "                n_correct += (actual_preds1 == labels).sum().item()\n",
    "            train_acc = n_correct/n_samples * 100\n",
    "            print(f'Train Accuracy: {train_acc:.2f}%')\n",
    "    print(f'Dev Accuracy: {val_acc:.2f}%')\n",
    "    print(\"-\"*20)"
   ]
  },
  {
   "cell_type": "markdown",
   "metadata": {},
   "source": [
    "Finished Training in 2hr 17m 27s"
   ]
  },
  {
   "cell_type": "code",
   "execution_count": 21,
   "metadata": {},
   "outputs": [],
   "source": [
    "import numpy as np"
   ]
  },
  {
   "cell_type": "code",
   "execution_count": 22,
   "metadata": {},
   "outputs": [
    {
     "data": {
      "text/plain": [
       "Text(0.5, 1.0, 'Loss vs Epochs')"
      ]
     },
     "execution_count": 22,
     "metadata": {},
     "output_type": "execute_result"
    },
    {
     "data": {
      "image/png": "[encoded data removed]",
      "text/plain": [
       "<Figure size 640x480 with 1 Axes>"
      ]
     },
     "metadata": {},
     "output_type": "display_data"
    }
   ],
   "source": [
    "plt.plot(np.linspace(0,num_epochs,len(losses)), losses)\n",
    "plt.xlabel('Epochs')\n",
    "plt.ylabel('Loss')\n",
    "plt.title('Loss vs Epochs')"
   ]
  },
  {
   "cell_type": "code",
   "execution_count": 23,
   "metadata": {},
   "outputs": [],
   "source": [
    "lstm.load_state_dict(best_weights)\n",
    "torch.save(lstm, 'models/deep_lstm_urban_sound_8K.pt')"
   ]
  },
  {
   "cell_type": "markdown",
   "metadata": {},
   "source": [
    "## Prediction"
   ]
  },
  {
   "cell_type": "code",
   "execution_count": 24,
   "metadata": {},
   "outputs": [
    {
     "name": "stdout",
     "output_type": "stream",
     "text": [
      "Train Accuracy = 99.72%\n"
     ]
    }
   ],
   "source": [
    "lstm.eval()\n",
    "n_samples = 0\n",
    "n_correct = 0\n",
    "for mel_spectrogram, labels in train_loader: # Train Accuracy\n",
    "    mel_spectrogram = mel_spectrogram.to(device) # From 128, 1, 28, 28 ---> 128, 784\n",
    "    labels = labels.to(device)\n",
    "    pred_outputs1 = lstm(mel_spectrogram)\n",
    "    _, actual_preds1 = torch.max(pred_outputs1, 1) # Returns value, index\n",
    "    n_samples += labels.shape[0]\n",
    "    n_correct += (actual_preds1 == labels).sum().item()\n",
    "train_acc = n_correct/n_samples * 100\n",
    "print(f'Train Accuracy = {train_acc:.2f}%')"
   ]
  },
  {
   "cell_type": "code",
   "execution_count": 25,
   "metadata": {},
   "outputs": [
    {
     "name": "stdout",
     "output_type": "stream",
     "text": [
      "Test Accuracy = 81.21%\n"
     ]
    }
   ],
   "source": [
    "lstm.eval()\n",
    "n_samples = 0\n",
    "n_correct = 0\n",
    "for mel_spectrogram, labels in test_loader: # Test Accuracy\n",
    "    mel_spectrogram = mel_spectrogram.to(device) # From 128, 1, 28, 28 ---> 128, 784\n",
    "    labels = labels.to(device)\n",
    "    pred_outputs1 = lstm(mel_spectrogram)\n",
    "    _, actual_preds1 = torch.max(pred_outputs1, 1) # Returns value, index\n",
    "    n_samples += labels.shape[0]\n",
    "    n_correct += (actual_preds1 == labels).sum().item()\n",
    "test_acc = n_correct/n_samples * 100\n",
    "print(f'Test Accuracy = {test_acc:.2f}%')"
   ]
  }
 ],
 "metadata": {
  "kernelspec": {
   "display_name": "Python 3.10.6",
   "language": "python",
   "name": "python3"
  },
  "language_info": {
   "codemirror_mode": {
    "name": "ipython",
    "version": 3
   },
   "file_extension": ".py",
   "mimetype": "text/x-python",
   "name": "python",
   "nbconvert_exporter": "python",
   "pygments_lexer": "ipython3",
   "version": "3.10.6"
  },
  "orig_nbformat": 4,
  "vscode": {
   "interpreter": {
    "hash": "193f6b5c64d175a70f8bc370a8e28557b54eddf9787b8dde324aa4d68183bc16"
   }
  }
 },
 "nbformat": 4,
 "nbformat_minor": 2
}

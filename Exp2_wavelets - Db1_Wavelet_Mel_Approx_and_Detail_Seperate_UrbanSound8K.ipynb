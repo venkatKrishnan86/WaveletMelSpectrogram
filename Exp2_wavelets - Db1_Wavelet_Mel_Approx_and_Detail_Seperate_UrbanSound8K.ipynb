{
 "cells": [
  {
   "cell_type": "code",
   "execution_count": 1,
   "metadata": {},
   "outputs": [],
   "source": [
    "from torch.utils.data import Dataset, DataLoader, random_split # Dataset: Base class\n",
    "import torch\n",
    "import torchaudio\n",
    "import torch.nn as nn\n",
    "import numpy as np\n",
    "import pywt\n",
    "\n",
    "import os\n",
    "import pandas as pd\n",
    "import matplotlib.pyplot as plt\n",
    "import librosa.display\n",
    "import copy"
   ]
  },
  {
   "cell_type": "code",
   "execution_count": 2,
   "metadata": {},
   "outputs": [
    {
     "data": {
      "text/plain": [
       "<torch._C.Generator at 0x1050c8cd0>"
      ]
     },
     "execution_count": 2,
     "metadata": {},
     "output_type": "execute_result"
    }
   ],
   "source": [
    "torch.manual_seed(10)"
   ]
  },
  {
   "cell_type": "code",
   "execution_count": 3,
   "metadata": {},
   "outputs": [],
   "source": [
    "if torch.cuda.is_available():\n",
    "    device = torch.device('cuda')\n",
    "# elif torch.backends.mps.is_available():\n",
    "#     device = torch.device('mps')\n",
    "else:\n",
    "    device = torch.device('cpu')"
   ]
  },
  {
   "cell_type": "code",
   "execution_count": 4,
   "metadata": {},
   "outputs": [
    {
     "name": "stdout",
     "output_type": "stream",
     "text": [
      "Device: cpu\n"
     ]
    }
   ],
   "source": [
    "print('Device:',device)"
   ]
  },
  {
   "cell_type": "markdown",
   "metadata": {},
   "source": [
    "Now we need to register this GPU (if available) to -\n",
    "- `transform` attribute in the Custom Dataset class below (which uses `torchaudio.transforms`)\n",
    "- Tensor `waveform` in `__getitem__()` function"
   ]
  },
  {
   "cell_type": "markdown",
   "metadata": {},
   "source": [
    "## Urban Sound 8K Custom Dataset"
   ]
  },
  {
   "cell_type": "code",
   "execution_count": 5,
   "metadata": {},
   "outputs": [],
   "source": [
    "class UrbanSound8KDataset(Dataset):\n",
    "    def __init__(self, annotations_file, audio_dir, num_samples = None, transformation = None, target_sample_rate = 22050, device = 'cpu', wavelet = 'db4') -> None:\n",
    "        super(UrbanSound8KDataset, self).__init__()\n",
    "        self.annotations = pd.read_csv(annotations_file)\n",
    "        self.audio_dir = audio_dir # Audio Directory\n",
    "        self.target_sample_rate = target_sample_rate\n",
    "        self.device = device\n",
    "        self.wavelet = pywt.Wavelet(wavelet)\n",
    "        if transformation is not None:\n",
    "            self.transform = transformation.to(self.device)\n",
    "        else:\n",
    "            self.transform = None\n",
    "        self.num_samples = num_samples\n",
    "\n",
    "    def __len__(self): # len(usd) can be used - number of samples in the dataset\n",
    "        return len(self.annotations) # Number of samples in the Dataset\n",
    "\n",
    "    def __getitem__(self, index): # Subscriptable: o_list[1] --> o_list.__getitem__(1)\n",
    "        # Loading the waveform of the audio associated to the index and also return the label with it\n",
    "        audio_sample_path = self._get_audio_sample_path(index) # Starting with underscore function: Placeholder method\n",
    "        label = self._get_audio_sample_label(index)\n",
    "        waveform, sr = torchaudio.load(audio_sample_path)\n",
    "\n",
    "        # Move the waveform to GPU if available\n",
    "        waveform = waveform.to(self.device)\n",
    "\n",
    "        # Make it mono (Since a signal can have multiple channels)\n",
    "        waveform = self._mix_down_if_necessary(waveform)\n",
    "\n",
    "        # Make all of the same sample rate (Since some audio data have different sample rate)\n",
    "        waveform = self._resample_if_necessary(waveform, sr)\n",
    "\n",
    "        # CUT or PAD the signal to the same number of samples = num_samples (Parameter passed when creating the object)\n",
    "        if self.num_samples is not None:\n",
    "            waveform = self._right_pad_if_necessary(waveform)\n",
    "            waveform = self._cut_if_necessary(waveform)\n",
    "\n",
    "        approx_coeffs = torch.tensor(pywt.dwt(waveform.numpy(), self.wavelet)[0]) # Using the APPROXIMATE COEFFICIENTS\n",
    "        detail_coeffs = torch.tensor(pywt.dwt(waveform.numpy(), self.wavelet)[1]) # Using the DETAILED COEFFICIENTS\n",
    "\n",
    "        # Applying mel spectrogram transformation to waveform\n",
    "        if self.transform is not None:\n",
    "            approx_coeffs = self.transform(approx_coeffs)\n",
    "            detail_coeffs = self.transform(detail_coeffs)\n",
    "        \n",
    "        return approx_coeffs, detail_coeffs, label\n",
    "\n",
    "    def _right_pad_if_necessary(self, waveform):\n",
    "        length_signal = waveform.shape[1]\n",
    "        if(length_signal < self.num_samples):\n",
    "            num_missing_samples = self.num_samples - length_signal\n",
    "\n",
    "            last_dimension_padding = (0, num_missing_samples) # (Left pad, Right pad) on LAST axis\n",
    "\n",
    "            waveform = torch.nn.functional.pad(waveform, last_dimension_padding)\n",
    "        return waveform\n",
    "\n",
    "    def _cut_if_necessary(self, waveform):\n",
    "        # waveform.shape --> Tensor --> (no. of channels = 1, no. of samples)\n",
    "        if(waveform.shape[1] > self.num_samples):\n",
    "            # E.g. is [1, 50000] --> [1, 22050]\n",
    "            waveform = waveform[:, :self.num_samples] # All channels, but first num_samples samples will be used\n",
    "        return waveform\n",
    "\n",
    "    def _resample_if_necessary(self, waveform, sr):\n",
    "        if sr != self.target_sample_rate:\n",
    "            resampler = torchaudio.transforms.Resample(sr, self.target_sample_rate)\n",
    "            waveform = resampler(waveform) # Callable object\n",
    "        return waveform\n",
    "\n",
    "    def _mix_down_if_necessary(self, waveform):\n",
    "        \"\"\"\n",
    "            Here we take the mean of each channel IF it has more than 1 channel\n",
    "            - This is the general way of converting a multi-channel signal to a mono signal\n",
    "        \"\"\"\n",
    "        # waveform.shape --> (no. of channels, no. of samples)\n",
    "        # First dimension determines the number of channels, as seen in the previous notebook as well, hence we set dim = 0\n",
    "        # keepdims is for ensuring the waveform is still a RANK 2 tensor, and does not become RANK 1, when taking mean of all rows\n",
    "        # If already mono, don't perform any operation\n",
    "\n",
    "        if waveform.shape[0] > 1:\n",
    "            waveform = torch.mean(waveform, dim=0, keepdim=True)\n",
    "        return waveform\n",
    "\n",
    "    def _get_audio_sample_path(self, index):\n",
    "        folder = f\"fold{self.annotations['fold'][index]}\" # Folder number\n",
    "        path = os.path.join(self.audio_dir, folder, self.annotations['slice_file_name'][index])\n",
    "        return path\n",
    "    \n",
    "    def _get_audio_sample_label(self, index):\n",
    "        return self.annotations['classID'][index]"
   ]
  },
  {
   "cell_type": "code",
   "execution_count": 6,
   "metadata": {},
   "outputs": [],
   "source": [
    "annotations_file = '../../../Datasets/UrbanSound8K/metadata/UrbanSound8K.csv'\n",
    "audio_dir = '../../../Datasets/UrbanSound8K/audio/'"
   ]
  },
  {
   "cell_type": "markdown",
   "metadata": {},
   "source": [
    "## Fixing the **duration** of each example"
   ]
  },
  {
   "cell_type": "code",
   "execution_count": 7,
   "metadata": {},
   "outputs": [],
   "source": [
    "sample_rate = 22050\n",
    "num_samples = sample_rate*1 # Taking 1 second of each sample\n",
    "hop_length = 256\n",
    "wavelet = 'db1'"
   ]
  },
  {
   "cell_type": "markdown",
   "metadata": {},
   "source": [
    "# Mel-Spectrogram"
   ]
  },
  {
   "cell_type": "code",
   "execution_count": 8,
   "metadata": {},
   "outputs": [],
   "source": [
    "mel_spectrogram = torchaudio.transforms.MelSpectrogram(\n",
    "    sample_rate,\n",
    "    n_fft = 2048,\n",
    "    hop_length = hop_length,\n",
    "    n_mels = 64 # Number of mel filter banks\n",
    ")"
   ]
  },
  {
   "cell_type": "code",
   "execution_count": 9,
   "metadata": {},
   "outputs": [],
   "source": [
    "usd = UrbanSound8KDataset(annotations_file, audio_dir, num_samples = num_samples, target_sample_rate = sample_rate, wavelet=wavelet, transformation=mel_spectrogram)"
   ]
  },
  {
   "cell_type": "code",
   "execution_count": 10,
   "metadata": {},
   "outputs": [
    {
     "data": {
      "text/plain": [
       "torch.Size([1, 64, 44])"
      ]
     },
     "execution_count": 10,
     "metadata": {},
     "output_type": "execute_result"
    }
   ],
   "source": [
    "shape = usd[0][0].shape\n",
    "shape"
   ]
  },
  {
   "cell_type": "code",
   "execution_count": 11,
   "metadata": {},
   "outputs": [
    {
     "data": {
      "text/plain": [
       "torch.Size([1, 64, 44])"
      ]
     },
     "execution_count": 11,
     "metadata": {},
     "output_type": "execute_result"
    }
   ],
   "source": [
    "shape = usd[1][0].shape\n",
    "shape"
   ]
  },
  {
   "cell_type": "markdown",
   "metadata": {},
   "source": [
    "## Dataloader"
   ]
  },
  {
   "cell_type": "code",
   "execution_count": 12,
   "metadata": {},
   "outputs": [],
   "source": [
    "train_data, test_data = random_split(usd, [0.9, 0.1])"
   ]
  },
  {
   "cell_type": "code",
   "execution_count": 13,
   "metadata": {},
   "outputs": [],
   "source": [
    "batch_size = 256"
   ]
  },
  {
   "cell_type": "code",
   "execution_count": 14,
   "metadata": {},
   "outputs": [],
   "source": [
    "train_loader = DataLoader(\n",
    "    train_data, \n",
    "    batch_size = batch_size, \n",
    "    shuffle=True\n",
    ")\n",
    "test_loader = DataLoader(\n",
    "    test_data, \n",
    "    batch_size = batch_size, \n",
    "    shuffle=True\n",
    ")"
   ]
  },
  {
   "cell_type": "code",
   "execution_count": 15,
   "metadata": {},
   "outputs": [],
   "source": [
    "classes = [\"Ambulance\", \"Car Horn\", \"Children Playing\", \"Dog Bark\", \"Drilling\", \"Engine Idling\", \"Gun Shot\", \"Jackhammer\", \"Siren\", \"Street Music\"]"
   ]
  },
  {
   "cell_type": "code",
   "execution_count": 16,
   "metadata": {},
   "outputs": [
    {
     "name": "stdout",
     "output_type": "stream",
     "text": [
      "torch.Size([256, 1, 64, 44])\n",
      "torch.Size([256, 1, 64, 44])\n"
     ]
    },
    {
     "data": {
      "text/plain": [
       "<matplotlib.colorbar.Colorbar at 0x17e09fa90>"
      ]
     },
     "execution_count": 16,
     "metadata": {},
     "output_type": "execute_result"
    },
    {
     "data": {
      "image/png": "[encoded data removed]",
      "text/plain": [
       "<Figure size 2000x1000 with 2 Axes>"
      ]
     },
     "metadata": {},
     "output_type": "display_data"
    },
    {
     "data": {
      "image/png": "[encoded data removed]",
      "text/plain": [
       "<Figure size 2000x1000 with 2 Axes>"
      ]
     },
     "metadata": {},
     "output_type": "display_data"
    }
   ],
   "source": [
    "wavelet_approx_coeffs, detail_coeffs, label = next(iter(train_loader))\n",
    "print(wavelet_approx_coeffs.shape)\n",
    "print(detail_coeffs.shape)\n",
    "\n",
    "plt.figure(1, figsize = (20,10))\n",
    "librosa.display.specshow(wavelet_approx_coeffs[3][0].numpy(), x_axis='time', y_coords=np.linspace(0,sample_rate/4,wavelet_approx_coeffs[0][0].numpy().shape[0]), sr=sample_rate)\n",
    "plt.yticks(np.linspace(0,sample_rate//4,6))\n",
    "plt.title(f'Mel Spectrogram for Approximate Wavelet Coefficients ({classes[label[3].item()]})')\n",
    "plt.colorbar()\n",
    "\n",
    "plt.figure(2, figsize = (20,10))\n",
    "librosa.display.specshow(detail_coeffs[3][0].numpy(), x_axis='time', y_coords=np.linspace(sample_rate/4,sample_rate/2,wavelet_approx_coeffs[0][0].numpy().shape[0]), sr=sample_rate)\n",
    "plt.yticks(np.linspace(sample_rate/4,sample_rate//2,6))\n",
    "plt.title(f'Mel Spectrogram for Detail Wavelet Coefficients ({classes[label[3].item()]})')\n",
    "plt.colorbar()"
   ]
  },
  {
   "cell_type": "markdown",
   "metadata": {},
   "source": [
    "# LSTM"
   ]
  },
  {
   "cell_type": "code",
   "execution_count": 16,
   "metadata": {},
   "outputs": [],
   "source": [
    "class LSTM(nn.Module):\n",
    "    def __init__(self, input_size, hidden_size1, hidden_size2, hidden_size3, device) -> None:\n",
    "        super(LSTM, self).__init__()\n",
    "        self.device = device\n",
    "        self.input_size = input_size\n",
    "        self.hidden_size1 = hidden_size1\n",
    "        self.hidden_size2 = hidden_size2\n",
    "        self.hidden_size3 = hidden_size3\n",
    "\n",
    "        self.lstm_a1 = nn.LSTMCell(input_size, hidden_size=hidden_size1)\n",
    "        self.lstm_a2 = nn.LSTMCell(hidden_size1, hidden_size=hidden_size2)\n",
    "        self.lstm_a3 = nn.LSTMCell(hidden_size2, hidden_size=hidden_size3)\n",
    "\n",
    "        self.lstm_d1 = nn.LSTMCell(input_size, hidden_size=hidden_size1)\n",
    "        self.lstm_d2 = nn.LSTMCell(hidden_size1, hidden_size=hidden_size2)\n",
    "        self.lstm_d3 = nn.LSTMCell(hidden_size2, hidden_size=hidden_size3)\n",
    "\n",
    "        self.linear = nn.Linear(hidden_size3*2, 10)\n",
    "\n",
    "    def forward_lstm(self, x, approx_bool):\n",
    "        batch_size = x.shape[0]\n",
    "        ht1 = torch.zeros(batch_size, self.hidden_size1).to(self.device) # (16, 256)\n",
    "        ct1 = torch.zeros(batch_size, self.hidden_size1).to(self.device) # (16, 256)\n",
    "        ht2 = torch.zeros(batch_size, self.hidden_size2).to(self.device) # (16, 256)\n",
    "        ct2 = torch.zeros(batch_size, self.hidden_size2).to(self.device) # (16, 256)\n",
    "        ht3 = torch.zeros(batch_size, self.hidden_size3).to(self.device) # (16, 256)\n",
    "        ct3 = torch.zeros(batch_size, self.hidden_size3).to(self.device) # (16, 256)\n",
    "\n",
    "        if approx_bool == True:\n",
    "            for input1 in x.split(1, dim = 3):\n",
    "                input1 = input1.view(batch_size, -1)\n",
    "                # print(input1.shape) # (16, 64) - where 64 is the number of samples in one mel spectrum (one column)\n",
    "                (ht1, ct1) = self.lstm_a1(input1, (ht1, ct1))\n",
    "                (ht2, ct2) = self.lstm_a2(ht1, (ht2, ct2))\n",
    "                (ht3, ct3) = self.lstm_a3(ht2, (ht3, ct3))\n",
    "        else:\n",
    "            for input1 in x.split(1, dim = 3):\n",
    "                input1 = input1.view(batch_size, -1)\n",
    "                # print(input1.shape) # (16, 64) - where 64 is the number of samples in one mel spectrum (one column)\n",
    "                (ht1, ct1) = self.lstm_d1(input1, (ht1, ct1))\n",
    "                (ht2, ct2) = self.lstm_d2(ht1, (ht2, ct2))\n",
    "                (ht3, ct3) = self.lstm_d3(ht2, (ht3, ct3))\n",
    "        \n",
    "        return ht3\n",
    "    \n",
    "    def forward(self, approx_coeffs, detail_coeffs):\n",
    "        approx_coeffs = self.forward_lstm(approx_coeffs, True)\n",
    "        detail_coeffs = self.forward_lstm(detail_coeffs, False)\n",
    "\n",
    "        ht3 = torch.cat((approx_coeffs, detail_coeffs), 1)\n",
    "        \n",
    "        output = self.linear(ht3)\n",
    "        return output"
   ]
  },
  {
   "cell_type": "code",
   "execution_count": 17,
   "metadata": {},
   "outputs": [],
   "source": [
    "lstm = LSTM(input_size = usd[0][0].shape[1], hidden_size1=256, hidden_size2=512, hidden_size3=512, device = device).to(device)"
   ]
  },
  {
   "cell_type": "code",
   "execution_count": 18,
   "metadata": {},
   "outputs": [],
   "source": [
    "criterion = nn.CrossEntropyLoss().to(device)\n",
    "optimizer = torch.optim.Adam(lstm.parameters(), lr=2e-3)\n",
    "scheduler = torch.optim.lr_scheduler.StepLR(optimizer, step_size = 5, gamma = 0.7)\n",
    "losses = []"
   ]
  },
  {
   "cell_type": "code",
   "execution_count": 19,
   "metadata": {},
   "outputs": [],
   "source": [
    "num_epochs = 50"
   ]
  },
  {
   "cell_type": "code",
   "execution_count": 20,
   "metadata": {},
   "outputs": [
    {
     "name": "stdout",
     "output_type": "stream",
     "text": [
      "Epoch 1/50; Loss = 1.249761; LR = [0.002]\n",
      "SAVED MODEL WEIGHTS\n",
      "Dev Accuracy: 55.56%\n",
      "--------------------\n",
      "Epoch 2/50; Loss = 0.928191; LR = [0.002]\n",
      "SAVED MODEL WEIGHTS\n",
      "Dev Accuracy: 65.06%\n",
      "--------------------\n",
      "Epoch 3/50; Loss = 0.911472; LR = [0.002]\n",
      "SAVED MODEL WEIGHTS\n",
      "Dev Accuracy: 69.99%\n",
      "--------------------\n",
      "Epoch 4/50; Loss = 0.723223; LR = [0.002]\n",
      "Dev Accuracy: 66.55%\n",
      "--------------------\n",
      "Epoch 5/50; Loss = 0.710682; LR = [0.002]\n",
      "SAVED MODEL WEIGHTS\n",
      "Train Accuracy: 81.73%\n",
      "Dev Accuracy: 71.94%\n",
      "--------------------\n",
      "Epoch 6/50; Loss = 0.543200; LR = [0.0014]\n",
      "SAVED MODEL WEIGHTS\n",
      "Dev Accuracy: 74.46%\n",
      "--------------------\n",
      "Epoch 7/50; Loss = 0.470114; LR = [0.0014]\n",
      "SAVED MODEL WEIGHTS\n",
      "Dev Accuracy: 77.21%\n",
      "--------------------\n",
      "Epoch 8/50; Loss = 0.387540; LR = [0.0014]\n",
      "Dev Accuracy: 72.97%\n",
      "--------------------\n",
      "Epoch 9/50; Loss = 0.374321; LR = [0.0014]\n",
      "Dev Accuracy: 76.52%\n",
      "--------------------\n",
      "Epoch 10/50; Loss = 0.205675; LR = [0.0014]\n",
      "SAVED MODEL WEIGHTS\n",
      "Train Accuracy: 91.53%\n",
      "Dev Accuracy: 78.69%\n",
      "--------------------\n",
      "Epoch 11/50; Loss = 0.210919; LR = [0.00098]\n",
      "SAVED MODEL WEIGHTS\n",
      "Dev Accuracy: 79.73%\n",
      "--------------------\n",
      "Epoch 12/50; Loss = 0.183524; LR = [0.00098]\n",
      "SAVED MODEL WEIGHTS\n",
      "Dev Accuracy: 79.73%\n",
      "--------------------\n",
      "Epoch 13/50; Loss = 0.175997; LR = [0.00098]\n",
      "SAVED MODEL WEIGHTS\n",
      "Dev Accuracy: 79.84%\n",
      "--------------------\n",
      "Epoch 14/50; Loss = 0.144860; LR = [0.00098]\n",
      "SAVED MODEL WEIGHTS\n",
      "Dev Accuracy: 80.53%\n",
      "--------------------\n",
      "Epoch 15/50; Loss = 0.231024; LR = [0.00098]\n",
      "Train Accuracy: 96.64%\n",
      "Dev Accuracy: 79.84%\n",
      "--------------------\n",
      "Epoch 16/50; Loss = 0.129526; LR = [0.000686]\n",
      "SAVED MODEL WEIGHTS\n",
      "Dev Accuracy: 81.44%\n",
      "--------------------\n",
      "Epoch 17/50; Loss = 0.063547; LR = [0.000686]\n",
      "SAVED MODEL WEIGHTS\n",
      "Dev Accuracy: 82.25%\n",
      "--------------------\n",
      "Epoch 18/50; Loss = 0.029949; LR = [0.000686]\n",
      "Dev Accuracy: 81.90%\n",
      "--------------------\n",
      "Epoch 19/50; Loss = 0.027306; LR = [0.000686]\n",
      "Dev Accuracy: 81.79%\n",
      "--------------------\n",
      "Epoch 20/50; Loss = 0.045976; LR = [0.000686]\n",
      "Train Accuracy: 97.81%\n",
      "Dev Accuracy: 80.76%\n",
      "--------------------\n",
      "Epoch 21/50; Loss = 0.038826; LR = [0.00048019999999999996]\n",
      "Dev Accuracy: 80.64%\n",
      "--------------------\n",
      "Epoch 22/50; Loss = 0.031662; LR = [0.00048019999999999996]\n",
      "Dev Accuracy: 81.21%\n",
      "--------------------\n",
      "Epoch 23/50; Loss = 0.075741; LR = [0.00048019999999999996]\n",
      "Dev Accuracy: 81.10%\n",
      "--------------------\n",
      "Epoch 24/50; Loss = 0.026227; LR = [0.00048019999999999996]\n",
      "Dev Accuracy: 82.13%\n",
      "--------------------\n",
      "Epoch 25/50; Loss = 0.002406; LR = [0.00048019999999999996]\n",
      "Train Accuracy: 99.34%\n",
      "Dev Accuracy: 81.21%\n",
      "--------------------\n",
      "Epoch 26/50; Loss = 0.029978; LR = [0.00033613999999999996]\n",
      "Dev Accuracy: 82.02%\n",
      "--------------------\n",
      "Epoch 27/50; Loss = 0.053422; LR = [0.00033613999999999996]\n",
      "SAVED MODEL WEIGHTS\n",
      "Dev Accuracy: 82.59%\n",
      "--------------------\n",
      "Epoch 28/50; Loss = 0.002992; LR = [0.00033613999999999996]\n",
      "Dev Accuracy: 81.79%\n",
      "--------------------\n",
      "Epoch 29/50; Loss = 0.014595; LR = [0.00033613999999999996]\n",
      "Dev Accuracy: 82.13%\n",
      "--------------------\n",
      "Epoch 30/50; Loss = 0.019151; LR = [0.00033613999999999996]\n",
      "Train Accuracy: 99.52%\n",
      "Dev Accuracy: 82.02%\n",
      "--------------------\n",
      "Epoch 31/50; Loss = 0.012664; LR = [0.00023529799999999997]\n",
      "Dev Accuracy: 81.67%\n",
      "--------------------\n",
      "Epoch 32/50; Loss = 0.001852; LR = [0.00023529799999999997]\n",
      "Dev Accuracy: 81.90%\n",
      "--------------------\n",
      "Epoch 33/50; Loss = 0.014173; LR = [0.00023529799999999997]\n",
      "Dev Accuracy: 81.56%\n",
      "--------------------\n",
      "Epoch 34/50; Loss = 0.008968; LR = [0.00023529799999999997]\n",
      "Dev Accuracy: 81.79%\n",
      "--------------------\n",
      "Epoch 35/50; Loss = 0.011535; LR = [0.00023529799999999997]\n",
      "Train Accuracy: 99.63%\n",
      "Dev Accuracy: 81.79%\n",
      "--------------------\n",
      "Epoch 36/50; Loss = 0.025579; LR = [0.00016470859999999997]\n",
      "Dev Accuracy: 82.13%\n",
      "--------------------\n",
      "Epoch 37/50; Loss = 0.025402; LR = [0.00016470859999999997]\n",
      "Dev Accuracy: 81.79%\n",
      "--------------------\n",
      "Epoch 38/50; Loss = 0.008251; LR = [0.00016470859999999997]\n",
      "Dev Accuracy: 82.02%\n",
      "--------------------\n",
      "Epoch 39/50; Loss = 0.010725; LR = [0.00016470859999999997]\n",
      "Dev Accuracy: 81.79%\n",
      "--------------------\n",
      "Epoch 40/50; Loss = 0.002898; LR = [0.00016470859999999997]\n",
      "Train Accuracy: 99.73%\n",
      "Dev Accuracy: 81.90%\n",
      "--------------------\n",
      "Epoch 41/50; Loss = 0.000449; LR = [0.00011529601999999998]\n",
      "Dev Accuracy: 82.02%\n",
      "--------------------\n",
      "Epoch 42/50; Loss = 0.007471; LR = [0.00011529601999999998]\n",
      "Dev Accuracy: 81.79%\n",
      "--------------------\n",
      "Epoch 43/50; Loss = 0.003411; LR = [0.00011529601999999998]\n",
      "Dev Accuracy: 82.36%\n",
      "--------------------\n",
      "Epoch 44/50; Loss = 0.018194; LR = [0.00011529601999999998]\n",
      "Dev Accuracy: 82.36%\n",
      "--------------------\n",
      "Epoch 45/50; Loss = 0.015099; LR = [0.00011529601999999998]\n",
      "SAVED MODEL WEIGHTS\n",
      "Train Accuracy: 99.82%\n",
      "Dev Accuracy: 82.59%\n",
      "--------------------\n",
      "Epoch 46/50; Loss = 0.004131; LR = [8.070721399999998e-05]\n",
      "Dev Accuracy: 82.13%\n",
      "--------------------\n",
      "Epoch 47/50; Loss = 0.010084; LR = [8.070721399999998e-05]\n",
      "Dev Accuracy: 82.13%\n",
      "--------------------\n",
      "Epoch 48/50; Loss = 0.001093; LR = [8.070721399999998e-05]\n",
      "SAVED MODEL WEIGHTS\n",
      "Dev Accuracy: 82.59%\n",
      "--------------------\n",
      "Epoch 49/50; Loss = 0.003893; LR = [8.070721399999998e-05]\n",
      "SAVED MODEL WEIGHTS\n",
      "Dev Accuracy: 82.59%\n",
      "--------------------\n",
      "Epoch 50/50; Loss = 0.007692; LR = [8.070721399999998e-05]\n",
      "SAVED MODEL WEIGHTS\n",
      "Train Accuracy: 99.78%\n",
      "Dev Accuracy: 82.70%\n",
      "--------------------\n"
     ]
    }
   ],
   "source": [
    "best_weights = copy.deepcopy(lstm.state_dict())\n",
    "max = 0\n",
    "val_acc = 0\n",
    "train_acc = 0\n",
    "for epoch in range(num_epochs):\n",
    "    lstm.train()\n",
    "    for i, (approx_coeffs, detail_coeffs, labels) in enumerate(train_loader):\n",
    "        approx_coeffs = approx_coeffs.to(device)\n",
    "        detail_coeffs = detail_coeffs.to(device)\n",
    "        labels = labels.to(device)\n",
    "\n",
    "        preds = lstm(approx_coeffs, detail_coeffs)\n",
    "        loss = criterion(preds, labels)\n",
    "        losses.append(loss.item())\n",
    "\n",
    "        optimizer.zero_grad()\n",
    "        loss.backward()\n",
    "        optimizer.step()\n",
    "    print(f'Epoch {epoch+1}/{num_epochs}; Loss = {loss.item():.6f}; LR = {scheduler.get_last_lr()}')\n",
    "    scheduler.step() # Decaying learning rate per 25 epochs by 0.2 times\n",
    "    with torch.no_grad():\n",
    "        n_samples = 0\n",
    "        n_correct = 0\n",
    "        lstm.eval()\n",
    "        for approx_coeffs, detail_coeffs, labels in test_loader:\n",
    "            approx_coeffs = approx_coeffs.to(device)\n",
    "            detail_coeffs = detail_coeffs.to(device)\n",
    "            labels = labels.to(device)\n",
    "            pred_outputs1 = lstm(approx_coeffs, detail_coeffs)\n",
    "            _, actual_preds1 = torch.max(pred_outputs1, 1) # Returns value, index\n",
    "            n_samples += labels.shape[0]\n",
    "            n_correct += (actual_preds1 == labels).sum().item()\n",
    "        val_acc = n_correct/n_samples * 100\n",
    "\n",
    "        if (max <= (n_correct/n_samples * 100)):\n",
    "            print('SAVED MODEL WEIGHTS')\n",
    "            max = val_acc\n",
    "            best_weights = copy.deepcopy(lstm.state_dict())\n",
    "\n",
    "        n_samples = 0\n",
    "        n_correct = 0\n",
    "        \n",
    "        if (epoch+1)%5 == 0:\n",
    "            for approx_coeffs, detail_coeffs, labels in train_loader:\n",
    "                approx_coeffs = approx_coeffs.to(device)\n",
    "                detail_coeffs = detail_coeffs.to(device)\n",
    "                labels = labels.to(device)\n",
    "                pred_outputs1 = lstm(approx_coeffs, detail_coeffs)\n",
    "                _, actual_preds1 = torch.max(pred_outputs1, 1) # Returns value, index\n",
    "                n_samples += labels.shape[0]\n",
    "                n_correct += (actual_preds1 == labels).sum().item()\n",
    "            train_acc = n_correct/n_samples * 100\n",
    "            print(f'Train Accuracy: {train_acc:.2f}%')\n",
    "    print(f'Dev Accuracy: {val_acc:.2f}%')\n",
    "    print(\"-\"*20)"
   ]
  },
  {
   "cell_type": "markdown",
   "metadata": {},
   "source": [
    "Finished Training in "
   ]
  },
  {
   "cell_type": "code",
   "execution_count": 21,
   "metadata": {},
   "outputs": [
    {
     "data": {
      "text/plain": [
       "Text(0.5, 1.0, 'Loss vs Epochs')"
      ]
     },
     "execution_count": 21,
     "metadata": {},
     "output_type": "execute_result"
    },
    {
     "data": {
      "image/png": "[encoded data removed]",
      "text/plain": [
       "<Figure size 640x480 with 1 Axes>"
      ]
     },
     "metadata": {},
     "output_type": "display_data"
    }
   ],
   "source": [
    "plt.plot(np.linspace(0,num_epochs,len(losses)), losses)\n",
    "plt.xlabel('Epochs')\n",
    "plt.ylabel('Loss')\n",
    "plt.title('Loss vs Epochs')"
   ]
  },
  {
   "cell_type": "code",
   "execution_count": 22,
   "metadata": {},
   "outputs": [],
   "source": [
    "# lstm.load_state_dict(best_weights)\n",
    "# torch.save(lstm, 'models/mel_and_db1_wavelet_approx_and_detail_urban_sound_8K.pt')"
   ]
  },
  {
   "cell_type": "markdown",
   "metadata": {},
   "source": [
    "## Prediction"
   ]
  },
  {
   "cell_type": "code",
   "execution_count": 23,
   "metadata": {},
   "outputs": [
    {
     "name": "stdout",
     "output_type": "stream",
     "text": [
      "Train Accuracy = 99.78%\n"
     ]
    }
   ],
   "source": [
    "lstm.eval()\n",
    "n_samples=0\n",
    "n_correct=0\n",
    "for approx_coeffs, detail_coeffs, labels in train_loader: # Test Accuracy\n",
    "    approx_coeffs = approx_coeffs.to(device)\n",
    "    detail_coeffs = detail_coeffs.to(device)\n",
    "    labels = labels.to(device)\n",
    "    pred_outputs1 = lstm(approx_coeffs, detail_coeffs)\n",
    "    _, actual_preds1 = torch.max(pred_outputs1, 1) # Returns value, index\n",
    "    n_samples += labels.shape[0]\n",
    "    n_correct += (actual_preds1 == labels).sum().item()\n",
    "train_acc = n_correct/n_samples * 100\n",
    "print(f'Train Accuracy = {train_acc:.2f}%')"
   ]
  },
  {
   "cell_type": "code",
   "execution_count": 24,
   "metadata": {},
   "outputs": [
    {
     "name": "stdout",
     "output_type": "stream",
     "text": [
      "Test Accuracy = 82.70%\n"
     ]
    }
   ],
   "source": [
    "lstm.eval()\n",
    "n_samples=0\n",
    "n_correct=0\n",
    "for approx_coeffs, detail_coeffs, labels in test_loader: # Test Accuracy\n",
    "    approx_coeffs = approx_coeffs.to(device)\n",
    "    detail_coeffs = detail_coeffs.to(device)\n",
    "    labels = labels.to(device)\n",
    "    pred_outputs1 = lstm(approx_coeffs, detail_coeffs)\n",
    "    _, actual_preds1 = torch.max(pred_outputs1, 1) # Returns value, index\n",
    "    n_samples += labels.shape[0]\n",
    "    n_correct += (actual_preds1 == labels).sum().item()\n",
    "test_acc = n_correct/n_samples * 100\n",
    "print(f'Test Accuracy = {test_acc:.2f}%')"
   ]
  }
 ],
 "metadata": {
  "kernelspec": {
   "display_name": "Python 3.10.6",
   "language": "python",
   "name": "python3"
  },
  "language_info": {
   "codemirror_mode": {
    "name": "ipython",
    "version": 3
   },
   "file_extension": ".py",
   "mimetype": "text/x-python",
   "name": "python",
   "nbconvert_exporter": "python",
   "pygments_lexer": "ipython3",
   "version": "3.10.6"
  },
  "orig_nbformat": 4,
  "vscode": {
   "interpreter": {
    "hash": "193f6b5c64d175a70f8bc370a8e28557b54eddf9787b8dde324aa4d68183bc16"
   }
  }
 },
 "nbformat": 4,
 "nbformat_minor": 2
}
